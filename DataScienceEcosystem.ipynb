{
 "cells": [
  {
   "cell_type": "markdown",
   "id": "95378769",
   "metadata": {},
   "source": [
    "#    # Data Science Tools and Ecosystem"
   ]
  },
  {
   "cell_type": "markdown",
   "id": "3c24e32a",
   "metadata": {},
   "source": [
    "    In this notebook, Data Science Tools and Ecosystem are summerized.\n"
   ]
  },
  {
   "cell_type": "markdown",
   "id": "cee8e428",
   "metadata": {},
   "source": [
    "Some of the popular languages that Data Scientists use are:\n",
    "\n",
    "    1. Python\n",
    "    \n",
    "    2. R\n",
    "    \n",
    "    3. SQL\n",
    "    \n",
    "    4. Julia\n",
    "    \n",
    "    5. SCALA\n",
    "    \n",
    "    6. C++"
   ]
  },
  {
   "cell_type": "markdown",
   "id": "eb40f31a",
   "metadata": {},
   "source": [
    "Some of the commonly used libraries used by Data Scientists include:\n",
    "\n",
    "    1. Panda\n",
    "    \n",
    "    2. Numpy\n",
    "    \n",
    "    3. Matplotlib\n",
    "    \n",
    "    4. Seaborn\n",
    "    \n",
    "    5. Pytorch"
   ]
  },
  {
   "cell_type": "markdown",
   "id": "dcc7e382",
   "metadata": {},
   "source": [
    "\n",
    "\n",
    "|Data Science Tools|\n",
    "|:--|\n",
    "|Jupyter Notebooks|\n",
    "|Zeppelin Notebooks|\n",
    "|R Studio|\n"
   ]
  },
  {
   "cell_type": "markdown",
   "id": "f3eaad9c",
   "metadata": {},
   "source": [
    "### Below are the few examples of evaluating arithmetic expressions in python."
   ]
  },
  {
   "cell_type": "code",
   "execution_count": 3,
   "id": "8b4f1c4e",
   "metadata": {},
   "outputs": [
    {
     "data": {
      "text/plain": [
       "17"
      ]
     },
     "execution_count": 3,
     "metadata": {},
     "output_type": "execute_result"
    }
   ],
   "source": [
    "# This is a simple arithmetic expression to multiply then add integers.\n",
    "(3*4)+5"
   ]
  },
  {
   "cell_type": "code",
   "execution_count": 5,
   "id": "a461ee56",
   "metadata": {},
   "outputs": [
    {
     "data": {
      "text/plain": [
       "3.3333333333333335"
      ]
     },
     "execution_count": 5,
     "metadata": {},
     "output_type": "execute_result"
    }
   ],
   "source": [
    "# This will convert 200 minutes to hours by dividing by 60.\n",
    "(200/60)"
   ]
  },
  {
   "cell_type": "markdown",
   "id": "62d906df",
   "metadata": {},
   "source": [
    "**Objectives:**\n",
    "\n",
    "    *Commonly used languages\n",
    "    \n",
    "    *Commonly used libraries\n",
    "    \n",
    "    *Data Science Tools\n",
    "    \n",
    "    *Arithmetic Expressions\n",
    "    \n",
    "    *Multiplication and Additions\n",
    "    \n",
    "    *Conversion of hours to minutes"
   ]
  },
  {
   "cell_type": "markdown",
   "id": "a7a15f92",
   "metadata": {},
   "source": [
    "## Author\n",
    "\n",
    "Harshida Patel"
   ]
  }
 ],
 "metadata": {
  "kernelspec": {
   "display_name": "Python 3 (ipykernel)",
   "language": "python",
   "name": "python3"
  },
  "language_info": {
   "codemirror_mode": {
    "name": "ipython",
    "version": 3
   },
   "file_extension": ".py",
   "mimetype": "text/x-python",
   "name": "python",
   "nbconvert_exporter": "python",
   "pygments_lexer": "ipython3",
   "version": "3.10.9"
  }
 },
 "nbformat": 4,
 "nbformat_minor": 5
}
